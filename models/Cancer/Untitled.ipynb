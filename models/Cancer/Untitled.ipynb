{
 "cells": [
  {
   "cell_type": "code",
   "execution_count": 19,
   "id": "f3f75a95-02a8-4a44-8be1-693669df22a0",
   "metadata": {},
   "outputs": [],
   "source": [
    "import pandas as pd"
   ]
  },
  {
   "cell_type": "code",
   "execution_count": 20,
   "id": "98230786-a8cd-4ed7-8f1a-569959ffdd94",
   "metadata": {},
   "outputs": [],
   "source": [
    "df = pd.read_csv(\"The_Cancer_data_1500_V2.csv\")"
   ]
  },
  {
   "cell_type": "code",
   "execution_count": 21,
   "id": "70413d1d-8baf-40eb-b8bd-926dd24cabdd",
   "metadata": {},
   "outputs": [],
   "source": [
    "# drop unwanted columns\n",
    "df.drop(columns=[\"GeneticRisk\",\"CancerHistory\"] , inplace=True)"
   ]
  },
  {
   "cell_type": "code",
   "execution_count": 22,
   "id": "b4da41d1-d3af-45e4-9c7b-2adbf0dc6d74",
   "metadata": {},
   "outputs": [],
   "source": [
    "# normalise column names\n",
    "df.columns = df.columns.str.strip().str.lower()"
   ]
  },
  {
   "cell_type": "code",
   "execution_count": 23,
   "id": "2e0b026b-f5aa-4135-88ab-67d36ef92268",
   "metadata": {},
   "outputs": [],
   "source": [
    "gender_dummies = pd.get_dummies(df['gender'],prefix='gender').astype(int)\n",
    "df = pd.concat([df, gender_dummies], axis=1)\n",
    "df.drop(columns=['gender'], inplace=True)"
   ]
  },
  {
   "cell_type": "code",
   "execution_count": 35,
   "id": "e7d423be-f5cf-4c0a-9f23-f63b54f5ccdb",
   "metadata": {},
   "outputs": [],
   "source": [
    "def alcohol_map(x):\n",
    "    try:\n",
    "        x = float(x)\n",
    "        return 0 if x <= 3 else 1\n",
    "    except:\n",
    "        return 0  # or np.nan if you prefer missing\n",
    "if \"alcoholintake\" in df.columns:\n",
    "    df[\"alcoholintake\"] = df[\"alcoholintake\"].apply(alcohol_map)\n"
   ]
  },
  {
   "cell_type": "code",
   "execution_count": 36,
   "id": "b9ea889f-6d19-40ff-9225-a23554f2414d",
   "metadata": {},
   "outputs": [],
   "source": [
    "def physical_map(x):\n",
    "    try:\n",
    "        x = float(x)\n",
    "        return 0 if x <= 5 else 1\n",
    "    except:\n",
    "        return 0\n",
    "if \"physicalactivity\" in df.columns:\n",
    "    df[\"physicalactivity\"] = df[\"physicalactivity\"].apply(physical_map)"
   ]
  },
  {
   "cell_type": "code",
   "execution_count": 37,
   "id": "925a1271-808b-47c3-8d6b-3a73888c45b1",
   "metadata": {},
   "outputs": [
    {
     "name": "stdout",
     "output_type": "stream",
     "text": [
      "Index(['age', 'bmi', 'smoking', 'physicalactivity', 'alcoholintake',\n",
      "       'diagnosis', 'gender_male', 'gender_female'],\n",
      "      dtype='object')\n"
     ]
    }
   ],
   "source": [
    "print(df.columns)"
   ]
  },
  {
   "cell_type": "code",
   "execution_count": 38,
   "id": "45ffd6ef-6c67-445b-967a-72c84c3a9a61",
   "metadata": {},
   "outputs": [],
   "source": [
    "df.rename(columns={\n",
    "    'gender_0': 'gender_male',\n",
    "    'gender_1': 'gender_female'\n",
    "} , inplace=True)"
   ]
  },
  {
   "cell_type": "code",
   "execution_count": 39,
   "id": "b2ff60c8-c02c-4e53-b20c-adaa4150db8b",
   "metadata": {},
   "outputs": [
    {
     "name": "stdout",
     "output_type": "stream",
     "text": [
      "   age        bmi  smoking  physicalactivity  alcoholintake  diagnosis  \\\n",
      "0   58  16.085313        0                 1              1          1   \n",
      "1   71  30.828784        0                 1              1          0   \n",
      "2   48  38.785084        0                 1              1          1   \n",
      "3   34  30.040296        0                 1              0          0   \n",
      "4   62  35.479721        0                 1              1          1   \n",
      "\n",
      "   gender_male  gender_female  \n",
      "0            0              1  \n",
      "1            1              0  \n",
      "2            0              1  \n",
      "3            1              0  \n",
      "4            0              1  \n"
     ]
    }
   ],
   "source": [
    "print(df.head())"
   ]
  },
  {
   "cell_type": "code",
   "execution_count": 40,
   "id": "4188d14c-4c4b-4fa1-b04b-ea8472cf3bcd",
   "metadata": {},
   "outputs": [],
   "source": [
    "df.to_csv(\"Cleaned_Cancer_Dats.csv\" , index=False)"
   ]
  }
 ],
 "metadata": {
  "kernelspec": {
   "display_name": "Python 3 (ipykernel)",
   "language": "python",
   "name": "python3"
  },
  "language_info": {
   "codemirror_mode": {
    "name": "ipython",
    "version": 3
   },
   "file_extension": ".py",
   "mimetype": "text/x-python",
   "name": "python",
   "nbconvert_exporter": "python",
   "pygments_lexer": "ipython3",
   "version": "3.13.3"
  }
 },
 "nbformat": 4,
 "nbformat_minor": 5
}
