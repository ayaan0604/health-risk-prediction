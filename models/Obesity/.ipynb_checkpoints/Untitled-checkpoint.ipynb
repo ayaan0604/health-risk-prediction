{
 "cells": [
  {
   "cell_type": "code",
   "execution_count": 9,
   "id": "768f2096-10c4-47e9-aab8-c2cfca8b1001",
   "metadata": {},
   "outputs": [],
   "source": [
    "import pandas as pd"
   ]
  },
  {
   "cell_type": "code",
   "execution_count": 10,
   "id": "7d632302-9bfd-4d0d-bb7a-dbf37963e5f7",
   "metadata": {},
   "outputs": [],
   "source": [
    "df = pd.read_csv(\"ObesityDataSet_raw_and_data_sinthetic.csv\")"
   ]
  },
  {
   "cell_type": "code",
   "execution_count": 11,
   "id": "0ac98c5f-ffae-4559-b81b-ee2024122f21",
   "metadata": {},
   "outputs": [],
   "source": [
    "df[\"BMI\"] = df[\"Weight\"] / (df[\"Height\"] ** 2)"
   ]
  },
  {
   "cell_type": "code",
   "execution_count": 12,
   "id": "22407b96-3f8c-4c71-bc7d-2f3ef1998595",
   "metadata": {},
   "outputs": [],
   "source": [
    "df = df.drop(columns=[\"Height\", \"Weight\"])\n"
   ]
  },
  {
   "cell_type": "code",
   "execution_count": 13,
   "id": "153a9aa8-7c44-4984-9ad5-7ba8ba81a106",
   "metadata": {},
   "outputs": [
    {
     "name": "stdout",
     "output_type": "stream",
     "text": [
      "['Age', 'Gender', 'CALC', 'FAVC', 'FCVC', 'NCP', 'SCC', 'SMOKE', 'CH2O', 'family_history_with_overweight', 'FAF', 'TUE', 'CAEC', 'MTRANS', 'NObeyesdad', 'BMI']\n"
     ]
    }
   ],
   "source": [
    "print(df.columns.tolist())"
   ]
  },
  {
   "cell_type": "code",
   "execution_count": 16,
   "id": "087afca2-5e28-420e-bb37-fe4ad33c1af9",
   "metadata": {},
   "outputs": [],
   "source": [
    "selected_columns = [\"Gender\",\"Age\",\"BMI\",\"SMOKE\",\"CALC\",\"CH2O\",\"FAVC\",\"NCP\",\"FAF\",\"NObeyesdad\"]\n",
    "cleaned_df = df[selected_columns]"
   ]
  },
  {
   "cell_type": "code",
   "execution_count": 17,
   "id": "f4a34771-b5b4-4778-8bda-2bb4491e0b13",
   "metadata": {},
   "outputs": [
    {
     "name": "stdout",
     "output_type": "stream",
     "text": [
      "   Gender   Age        BMI SMOKE        CALC  CH2O FAVC  NCP  FAF  \\\n",
      "0  Female  21.0  24.386526    no          no   2.0   no  3.0  0.0   \n",
      "1  Female  21.0  24.238227   yes   Sometimes   3.0   no  3.0  3.0   \n",
      "2    Male  23.0  23.765432    no  Frequently   2.0   no  3.0  2.0   \n",
      "3    Male  27.0  26.851852    no  Frequently   2.0   no  3.0  2.0   \n",
      "4    Male  22.0  28.342381    no   Sometimes   2.0   no  1.0  0.0   \n",
      "\n",
      "            NObeyesdad  \n",
      "0        Normal_Weight  \n",
      "1        Normal_Weight  \n",
      "2        Normal_Weight  \n",
      "3   Overweight_Level_I  \n",
      "4  Overweight_Level_II  \n"
     ]
    }
   ],
   "source": [
    "print(cleaned_df.head())"
   ]
  },
  {
   "cell_type": "code",
   "execution_count": 18,
   "id": "4940d792-9095-42b6-a827-93ebed51abab",
   "metadata": {},
   "outputs": [
    {
     "name": "stderr",
     "output_type": "stream",
     "text": [
      "C:\\Users\\nandi\\AppData\\Local\\Temp\\ipykernel_19292\\4137639899.py:1: SettingWithCopyWarning: \n",
      "A value is trying to be set on a copy of a slice from a DataFrame\n",
      "\n",
      "See the caveats in the documentation: https://pandas.pydata.org/pandas-docs/stable/user_guide/indexing.html#returning-a-view-versus-a-copy\n",
      "  cleaned_df.rename(columns={\n"
     ]
    }
   ],
   "source": [
    "cleaned_df.rename(columns={\n",
    "    \"CALC\":\"Alcohol_Consumption\",\n",
    "    \"CH2O\":\"Water_intake\",\n",
    "    \"FAVC\":\"Caloric_food\",\n",
    "    \"NCP\":\"Meals\",\n",
    "    \"FAF\":\"Physical_Activity\",\n",
    "    \"NObeyesdad\":\"Obesity_Level\"\n",
    "},inplace=True)"
   ]
  },
  {
   "cell_type": "code",
   "execution_count": 19,
   "id": "1eec62e7-c63e-484f-b791-02e5f0b0c939",
   "metadata": {},
   "outputs": [
    {
     "name": "stdout",
     "output_type": "stream",
     "text": [
      "Index(['Gender', 'Age', 'BMI', 'SMOKE', 'Alcohol_Consumption', 'Water_intake',\n",
      "       'Caloric_food', 'Meals', 'Physical_Activity', 'Obesity_Level'],\n",
      "      dtype='object')\n"
     ]
    }
   ],
   "source": [
    "print(cleaned_df.columns)"
   ]
  },
  {
   "cell_type": "code",
   "execution_count": 22,
   "id": "750fc9e4-d12b-491a-b029-ed7aaab7f6f4",
   "metadata": {},
   "outputs": [],
   "source": [
    "cleaned_df.to_csv(\"Cleaned_obesity_data.csv\" , index=False)"
   ]
  },
  {
   "cell_type": "code",
   "execution_count": null,
   "id": "b21e9c55-e953-41fe-b33b-82fc90f9ec26",
   "metadata": {},
   "outputs": [],
   "source": []
  }
 ],
 "metadata": {
  "kernelspec": {
   "display_name": "Python 3 (ipykernel)",
   "language": "python",
   "name": "python3"
  },
  "language_info": {
   "codemirror_mode": {
    "name": "ipython",
    "version": 3
   },
   "file_extension": ".py",
   "mimetype": "text/x-python",
   "name": "python",
   "nbconvert_exporter": "python",
   "pygments_lexer": "ipython3",
   "version": "3.13.3"
  }
 },
 "nbformat": 4,
 "nbformat_minor": 5
}
