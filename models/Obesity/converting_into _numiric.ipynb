{
 "cells": [
  {
   "cell_type": "code",
   "execution_count": 40,
   "id": "faca8cc1-d160-4ca1-9086-6930472090be",
   "metadata": {},
   "outputs": [],
   "source": [
    "import pandas as pd"
   ]
  },
  {
   "cell_type": "code",
   "execution_count": 41,
   "id": "15160984-620d-42ef-b5d4-07881fa77ad1",
   "metadata": {},
   "outputs": [],
   "source": [
    "df= pd.read_csv(\"Cleaned_obesity_data.csv\")"
   ]
  },
  {
   "cell_type": "code",
   "execution_count": 42,
   "id": "4316e7aa-1ed3-4b81-9a49-e8a8c0562c7a",
   "metadata": {},
   "outputs": [],
   "source": [
    "gender_dummies = pd.get_dummies(df[\"Gender\"], prefix=\"Gender\").astype(int)\n",
    "df = pd.concat([df, gender_dummies], axis=1)\n",
    "df.drop(columns=[\"Gender\"], inplace=True)"
   ]
  },
  {
   "cell_type": "code",
   "execution_count": 43,
   "id": "f00b3d2f-ee1f-41b1-af0e-71c35908c6a5",
   "metadata": {},
   "outputs": [
    {
     "data": {
      "text/plain": [
       "Obesity_Level\n",
       "Obesity_Type_I         351\n",
       "Obesity_Type_III       324\n",
       "Obesity_Type_II        297\n",
       "Overweight_Level_I     290\n",
       "Overweight_Level_II    290\n",
       "Normal_Weight          287\n",
       "Insufficient_Weight    272\n",
       "Name: count, dtype: int64"
      ]
     },
     "execution_count": 43,
     "metadata": {},
     "output_type": "execute_result"
    }
   ],
   "source": [
    "df[\"Obesity_Level\"].value_counts()"
   ]
  },
  {
   "cell_type": "code",
   "execution_count": 44,
   "id": "3e7b1bd7-751a-4dcb-b975-883d8d7281a6",
   "metadata": {},
   "outputs": [],
   "source": [
    "binary_map = {\"yes\": 1, \"no\": 0}\n",
    "for col in [\"SMOKE\", \"Caloric_food\"]:\n",
    "    if col in df.columns:\n",
    "        df[col] = df[col].map(binary_map)"
   ]
  },
  {
   "cell_type": "code",
   "execution_count": 45,
   "id": "e23f4fe8-b5ca-4321-9e6a-41671f37b442",
   "metadata": {},
   "outputs": [],
   "source": [
    "lcohol_map = {\"no\": 0, \"sometimes\": 0, \"frequently\": 1}\n",
    "if \"Alcohol_Consumption\" in df.columns:\n",
    "    df[\"Alcohol_Consumption\"] = df[\"Alcohol_Consumption\"].map(alcohol_map)"
   ]
  },
  {
   "cell_type": "code",
   "execution_count": 46,
   "id": "1fbad255-fa2b-4fce-9d32-0e46cc8655f2",
   "metadata": {},
   "outputs": [],
   "source": [
    "obesity_map = {\n",
    "    \"Insufficient_Weight\": 0,\n",
    "    \"Normal_Weight\": 0,\n",
    "    \"Overweight_Level_I\": 0,\n",
    "    \"Overweight_Level_II\": 1,\n",
    "    \"Obesity_Type_I\": 1,\n",
    "    \"Obesity_Type_II\": 1,\n",
    "    \"Obesity_Type_III\": 1\n",
    "}\n",
    "df[\"Obesity_Level\"] = df[\"Obesity_Level\"].map(obesity_map)"
   ]
  },
  {
   "cell_type": "code",
   "execution_count": 47,
   "id": "4b63a7d5-5f3c-4239-a541-e2f2d68b105f",
   "metadata": {},
   "outputs": [],
   "source": [
    "df.fillna(0, inplace=True)"
   ]
  },
  {
   "cell_type": "code",
   "execution_count": 48,
   "id": "44dba367-7ed2-40ed-acac-198732455099",
   "metadata": {},
   "outputs": [
    {
     "name": "stdout",
     "output_type": "stream",
     "text": [
      "   SMOKE  Gender_Female  Gender_Male\n",
      "0      0              1            0\n",
      "1      1              1            0\n",
      "2      0              0            1\n",
      "3      0              0            1\n",
      "4      0              0            1\n",
      "Age                    float64\n",
      "BMI                    float64\n",
      "SMOKE                    int64\n",
      "Alcohol_Consumption    float64\n",
      "Water_intake           float64\n",
      "Caloric_food             int64\n",
      "Meals                  float64\n",
      "Physical_Activity      float64\n",
      "Obesity_Level            int64\n",
      "Gender_Female            int64\n",
      "Gender_Male              int64\n",
      "dtype: object\n"
     ]
    }
   ],
   "source": [
    "print(df[[\"SMOKE\", \"Gender_Female\", \"Gender_Male\"]].head())\n",
    "print(df.dtypes)"
   ]
  },
  {
   "cell_type": "code",
   "execution_count": 49,
   "id": "5e7435d9-639f-4279-a8b7-d2fd86f020db",
   "metadata": {},
   "outputs": [
    {
     "name": "stdout",
     "output_type": "stream",
     "text": [
      "    Age        BMI  SMOKE  Alcohol_Consumption  Water_intake  Caloric_food  \\\n",
      "0  21.0  24.386526      0                  0.0           2.0             0   \n",
      "1  21.0  24.238227      1                  0.0           3.0             0   \n",
      "2  23.0  23.765432      0                  1.0           2.0             0   \n",
      "3  27.0  26.851852      0                  1.0           2.0             0   \n",
      "4  22.0  28.342381      0                  0.0           2.0             0   \n",
      "\n",
      "   Meals  Physical_Activity  Obesity_Level  Gender_Female  Gender_Male  \n",
      "0    3.0                0.0              0              1            0  \n",
      "1    3.0                3.0              0              1            0  \n",
      "2    3.0                2.0              0              0            1  \n",
      "3    3.0                2.0              0              0            1  \n",
      "4    1.0                0.0              1              0            1  \n"
     ]
    }
   ],
   "source": [
    "print(df.head())"
   ]
  },
  {
   "cell_type": "code",
   "execution_count": 50,
   "id": "bf8f76a9-9a49-4ad3-a0eb-66bde3120744",
   "metadata": {},
   "outputs": [],
   "source": [
    "df.to_csv(\"Fully_Numeric_Obesity_Data.csv\" , index=False)"
   ]
  },
  {
   "cell_type": "code",
   "execution_count": null,
   "id": "e2cdd57a-7f8a-4ec9-8c1d-cd7cd66bcf28",
   "metadata": {},
   "outputs": [],
   "source": []
  }
 ],
 "metadata": {
  "kernelspec": {
   "display_name": "Python 3 (ipykernel)",
   "language": "python",
   "name": "python3"
  },
  "language_info": {
   "codemirror_mode": {
    "name": "ipython",
    "version": 3
   },
   "file_extension": ".py",
   "mimetype": "text/x-python",
   "name": "python",
   "nbconvert_exporter": "python",
   "pygments_lexer": "ipython3",
   "version": "3.13.3"
  }
 },
 "nbformat": 4,
 "nbformat_minor": 5
}
